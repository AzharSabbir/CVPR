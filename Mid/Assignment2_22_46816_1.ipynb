{
  "nbformat": 4,
  "nbformat_minor": 0,
  "metadata": {
    "colab": {
      "provenance": []
    },
    "kernelspec": {
      "name": "python3",
      "display_name": "Python 3"
    },
    "language_info": {
      "name": "python"
    }
  },
  "cells": [
    {
      "cell_type": "code",
      "source": [
        "import numpy as np\n",
        "import pandas as pd\n",
        "import matplotlib.pyplot as plt\n"
      ],
      "metadata": {
        "id": "HHrJF65nWaLn"
      },
      "execution_count": 41,
      "outputs": []
    },
    {
      "cell_type": "code",
      "source": [
        "dataset=pd.read_csv('/content/Assignment 2 DataSet.csv'); print(dataset.head(5))"
      ],
      "metadata": {
        "colab": {
          "base_uri": "https://localhost:8080/"
        },
        "id": "yE9i1rKyXYE5",
        "outputId": "62b26fb7-c47b-4fca-cc29-740d98aee5d4"
      },
      "execution_count": 42,
      "outputs": [
        {
          "output_type": "stream",
          "name": "stdout",
          "text": [
            "   Product Rating   Delivery Satisfaction  Feedback\n",
            "0                9                      3         0\n",
            "1                2                      5        -1\n",
            "2                3                      6        -1\n",
            "3               10                      3         0\n",
            "4                3                      9         0\n"
          ]
        }
      ]
    },
    {
      "cell_type": "code",
      "source": [
        "# The system calculates customer feedback based on Product Satisfaction and Delivery Satisfaction\n",
        "# scores. The feedback is determined by averaging the two scores:\n",
        "\n",
        "# 1 (Positive): Average ≥ 8\n",
        "# 0 (Neutral): 5 ≤ Average < 7\n",
        "# -1 (Negative): Average < 5\n",
        "# It trains a neural network on historical feedback data to predict the sentiment (positive, neutral, negative)\n",
        "# based on these inputs. The model is evaluated on test data to validate its performance."
      ],
      "metadata": {
        "id": "zecwGG_CLMzG"
      },
      "execution_count": 43,
      "outputs": []
    },
    {
      "cell_type": "code",
      "source": [
        "X = dataset.iloc[:, :-1].values\n",
        "y = dataset.iloc[:, -1].values"
      ],
      "metadata": {
        "id": "5x7nv4RBXg1S"
      },
      "execution_count": 44,
      "outputs": []
    },
    {
      "cell_type": "code",
      "execution_count": 45,
      "metadata": {
        "id": "GXaC_RA_WYJo",
        "colab": {
          "base_uri": "https://localhost:8080/"
        },
        "outputId": "663ae025-f53d-46d3-d677-db9f26e02a52"
      },
      "outputs": [
        {
          "output_type": "stream",
          "name": "stdout",
          "text": [
            "Epoch 0, Error: 0.22208526392263395\n",
            "Epoch 1000, Error: 0.21039999614656799\n",
            "Epoch 2000, Error: 0.21039999081601735\n",
            "Epoch 3000, Error: 0.2103999851425168\n",
            "Epoch 4000, Error: 0.21039997884308445\n",
            "Epoch 5000, Error: 0.21039997157578402\n",
            "Epoch 6000, Error: 0.21039996290104399\n",
            "Epoch 7000, Error: 0.2103999522247673\n",
            "Epoch 8000, Error: 0.21039993870972423\n",
            "Epoch 9000, Error: 0.2103999211310871\n"
          ]
        }
      ],
      "source": [
        "class NeuralNetwork:\n",
        "    def __init__(self, input_size, hidden_size1, hidden_size2, hidden_size3, output_size, learning_rate):\n",
        "        # Initialize weights randomly for all layers\n",
        "        self.W_H1 = np.random.randn(input_size, hidden_size1) * 0.01\n",
        "        self.W_H2 = np.random.randn(hidden_size1, hidden_size2) * 0.01\n",
        "        self.W_H3 = np.random.randn(hidden_size2, hidden_size3) * 0.01\n",
        "        self.W_OH = np.random.randn(hidden_size3, output_size) * 0.01\n",
        "        self.learning_rate = learning_rate\n",
        "\n",
        "    def sigmoid(self, x, derivative=False):\n",
        "        if derivative:\n",
        "            return x * (1 - x)\n",
        "        return 1 / (1 + np.exp(-x))\n",
        "\n",
        "    def softmax(self, x):\n",
        "        exp_x = np.exp(x - np.max(x, axis=1, keepdims=True))  # Numerical stability\n",
        "        return exp_x / np.sum(exp_x, axis=1, keepdims=True)\n",
        "\n",
        "    def feedforward(self, X):\n",
        "        # Perform forward propagation\n",
        "        self.hidden1_output = self.sigmoid(np.dot(X, self.W_H1))\n",
        "        self.hidden2_output = self.sigmoid(np.dot(self.hidden1_output, self.W_H2))\n",
        "        self.hidden3_output = self.sigmoid(np.dot(self.hidden2_output, self.W_H3))\n",
        "        output_input = np.dot(self.hidden3_output, self.W_OH)\n",
        "        output = self.softmax(output_input)\n",
        "        return output\n",
        "\n",
        "    def backpropagation(self, X, Y, output):\n",
        "        # Calculate output error and deltas\n",
        "        output_error = output - Y  # Gradient of loss w.r.t. softmax output\n",
        "        output_delta = output_error\n",
        "\n",
        "        # Propagate errors backward\n",
        "        hidden3_error = np.dot(output_delta, self.W_OH.T)\n",
        "        hidden3_delta = hidden3_error * self.sigmoid(self.hidden3_output, derivative=True)\n",
        "\n",
        "        hidden2_error = np.dot(hidden3_delta, self.W_H3.T)\n",
        "        hidden2_delta = hidden2_error * self.sigmoid(self.hidden2_output, derivative=True)\n",
        "\n",
        "        hidden1_error = np.dot(hidden2_delta, self.W_H2.T)\n",
        "        hidden1_delta = hidden1_error * self.sigmoid(self.hidden1_output, derivative=True)\n",
        "\n",
        "        # Update weights using gradient descent\n",
        "        self.W_OH -= self.learning_rate * np.dot(self.hidden3_output.T, output_delta)\n",
        "        self.W_H3 -= self.learning_rate * np.dot(self.hidden2_output.T, hidden3_delta)\n",
        "        self.W_H2 -= self.learning_rate * np.dot(self.hidden1_output.T, hidden2_delta)\n",
        "        self.W_H1 -= self.learning_rate * np.dot(X.T, hidden1_delta)\n",
        "\n",
        "    def train(self, X, Y, epochs=1000):\n",
        "        errors = []\n",
        "        for epoch in range(epochs):\n",
        "            # Forward and backward propagation\n",
        "            output = self.feedforward(X)\n",
        "            self.backpropagation(X, Y, output)\n",
        "            # Compute and log the mean squared error\n",
        "            error = np.mean(np.square(Y - output))\n",
        "            errors.append(error)\n",
        "            if epoch % 1000 == 0:\n",
        "                print(f\"Epoch {epoch}, Error: {error}\")\n",
        "        return errors\n",
        "\n",
        "# Data Preprocessing\n",
        "unique_labels = np.unique(y)  # Unique classes in the dataset\n",
        "label_to_index = {label: idx for idx, label in enumerate(unique_labels)}\n",
        "index_to_label = {idx: label for label, idx in label_to_index.items()}\n",
        "\n",
        "# Convert labels to indices\n",
        "Y_indices = np.array([label_to_index[label] for label in y])\n",
        "\n",
        "# Convert to one-hot encoding\n",
        "Y_one_hot = np.eye(len(unique_labels))[Y_indices]\n",
        "\n",
        "# Example of initializing and training the neural network\n",
        "input_size = 10  # Number of input features\n",
        "hidden_size1 = 64\n",
        "hidden_size2 = 32\n",
        "hidden_size3 = 16\n",
        "output_size = len(unique_labels)  # Number of output classes\n",
        "learning_rate = 0.01\n",
        "\n",
        "# Initialize the neural network\n",
        "nn = NeuralNetwork(input_size, hidden_size1, hidden_size2, hidden_size3, output_size, learning_rate)\n",
        "\n",
        "# Example dataset: features `X` and labels `Y_one_hot`\n",
        "X = np.random.randn(100, input_size)  # 100 samples with `input_size` features\n",
        "errors = nn.train(X, Y_one_hot, epochs=10000)\n"
      ]
    },
    {
      "cell_type": "code",
      "source": [
        "import numpy as np\n",
        "import matplotlib.pyplot as plt\n",
        "\n",
        "# Assuming X and Y are correctly prepared with 2 input features and 3 output classes\n",
        "# Example initialization for X (80 samples, 2 features)\n",
        "X = np.random.randint(1, 11, (80, 2))  # Random product rating and delivery satisfaction\n",
        "\n",
        "# One-hot encode Y (80 samples, 3 output classes)\n",
        "Y_one_hot = np.zeros((80, 3))\n",
        "for i in range(80):\n",
        "    avg = np.mean(X[i])\n",
        "    if avg >= 8:\n",
        "        Y_one_hot[i] = [1, 0, 0]  # Positive\n",
        "    elif avg > 5:\n",
        "        Y_one_hot[i] = [0, 1, 0]  # Neutral\n",
        "    else:\n",
        "        Y_one_hot[i] = [0, 0, 1]  # Negative\n",
        "\n",
        "# Split dataset into training and testing\n",
        "np.random.seed(42)\n",
        "indices = np.random.permutation(len(X))  # Shuffle indices\n",
        "split_index = int(0.8 * len(X))  # 80% train, 20% test\n",
        "\n",
        "train_indices = indices[:split_index]\n",
        "test_indices = indices[split_index:]\n",
        "\n",
        "# Splitting the dataset\n",
        "X_train, X_test = X[train_indices], X[test_indices]\n",
        "Y_train, Y_test = Y_one_hot[train_indices], Y_one_hot[test_indices]\n",
        "\n",
        "# Neural network configuration\n",
        "input_size = 2  # Input features (Product and Delivery Satisfaction)\n",
        "hidden_size1 = 5  # Hidden layer 1 size\n",
        "hidden_size2 = 5  # Hidden layer 2 size\n",
        "hidden_size3 = 5  # Hidden layer 3 size\n",
        "output_size = 3  # Output classes (Negative, Neutral, Positive)\n",
        "learning_rate = 0.01  # Learning rate for weight updates\n",
        "\n",
        "# Initialize neural network\n",
        "NN = NeuralNetwork(input_size, hidden_size1, hidden_size2, hidden_size3, output_size, learning_rate)\n",
        "\n",
        "# Train the neural network\n",
        "epochs = 5000  # Number of training iterations\n",
        "errors = NN.train(X_train, Y_train, epochs)\n",
        "\n",
        "# Test predictions\n",
        "Y_pred = NN.feedforward(X_test)  # Forward pass on test data\n",
        "predictions = np.argmax(Y_pred, axis=1)  # Predicted labels\n",
        "true_labels = np.argmax(Y_test, axis=1)  # True labels\n",
        "\n",
        "# Calculate accuracy\n",
        "accuracy = np.mean(predictions == true_labels) * 100\n",
        "print(f\"Test Accuracy: {accuracy:.2f}%\")\n",
        "\n",
        "# Plot training error over epochs\n",
        "plt.figure(figsize=(10, 6))\n",
        "plt.plot(range(len(errors)), errors, label='Training Error', color='blue')\n",
        "plt.xlabel('Epochs', fontsize=12)\n",
        "plt.ylabel('Error', fontsize=12)\n",
        "plt.title('Training Error Over Epochs', fontsize=14)\n",
        "plt.legend(fontsize=12)\n",
        "plt.grid(True, alpha=0.4)\n",
        "plt.show()\n"
      ],
      "metadata": {
        "colab": {
          "base_uri": "https://localhost:8080/",
          "height": 673
        },
        "id": "zeZ-LCxOiaLJ",
        "outputId": "15cea126-6735-4c45-b4bf-617ba0c6c2ec"
      },
      "execution_count": 46,
      "outputs": [
        {
          "output_type": "stream",
          "name": "stdout",
          "text": [
            "Epoch 0, Error: 0.22200035569684942\n",
            "Epoch 1000, Error: 0.21337890570233106\n",
            "Epoch 2000, Error: 0.21337890350620103\n",
            "Epoch 3000, Error: 0.213378900921417\n",
            "Epoch 4000, Error: 0.2133788974907006\n",
            "Test Accuracy: 43.75%\n"
          ]
        },
        {
          "output_type": "display_data",
          "data": {
            "text/plain": [
              "<Figure size 1000x600 with 1 Axes>"
            ],
            "image/png": "[encoded data removed]"
          },
          "metadata": {}
        }
      ]
    }
  ]
}